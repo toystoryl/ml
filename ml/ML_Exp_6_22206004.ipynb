{
  "nbformat": 4,
  "nbformat_minor": 0,
  "metadata": {
    "colab": {
      "provenance": []
    },
    "kernelspec": {
      "name": "python3",
      "display_name": "Python 3"
    },
    "language_info": {
      "name": "python"
    }
  },
  "cells": [
    {
      "cell_type": "code",
      "source": [
        "#Name: Sahil Shaikh\n",
        "#Roll No: 54\n",
        "#Practical: Machine Learning Lab\n",
        "#Experiment No 6"
      ],
      "metadata": {
        "id": "3utc_sxs_cZ0"
      },
      "execution_count": null,
      "outputs": []
    },
    {
      "cell_type": "code",
      "execution_count": null,
      "metadata": {
        "id": "uilqLAWS1k6V"
      },
      "outputs": [],
      "source": [
        "import numpy as np\n",
        "import math\n",
        "x=np.array([[1,8,12,7]])\n",
        "nMissing=2"
      ]
    },
    {
      "cell_type": "code",
      "source": [
        "n=np.shape(x)[1]"
      ],
      "metadata": {
        "id": "LF_RowJ82KZ4"
      },
      "execution_count": null,
      "outputs": []
    },
    {
      "cell_type": "code",
      "source": [
        " print(\"The training data: \\n\",x)\n",
        " print(\"The number of data present in x is:\",n)"
      ],
      "metadata": {
        "colab": {
          "base_uri": "https://localhost:8080/"
        },
        "id": "aKWb1X6I2be0",
        "outputId": "95d882a9-7c82-43bb-a747-e577c51af092"
      },
      "execution_count": null,
      "outputs": [
        {
          "output_type": "stream",
          "name": "stdout",
          "text": [
            "The training data: \n",
            " [[ 1  8 12  7]]\n",
            "The number of data present in x is: 4\n"
          ]
        }
      ]
    },
    {
      "cell_type": "code",
      "source": [
        "#the E step\n",
        "meanI=np.sum(x)/(n+nMissing)\n",
        "missingValue=np.round(meanI)"
      ],
      "metadata": {
        "id": "g5HW3iy52qYX"
      },
      "execution_count": null,
      "outputs": []
    },
    {
      "cell_type": "code",
      "source": [
        "print(\"The value of existing data is:\",meanI)\n",
        "print(\"The missing values may be:\",missingValue)"
      ],
      "metadata": {
        "colab": {
          "base_uri": "https://localhost:8080/"
        },
        "id": "A9n7K_lS21H0",
        "outputId": "3b22136f-7390-45d7-a081-608a44a63230"
      },
      "execution_count": null,
      "outputs": [
        {
          "output_type": "stream",
          "name": "stdout",
          "text": [
            "The value of existing data is: 4.666666666666667\n",
            "The missing values may be: 5.0\n"
          ]
        }
      ]
    },
    {
      "cell_type": "code",
      "source": [
        "meanPrevious=0"
      ],
      "metadata": {
        "id": "QyjvVl3O23dr"
      },
      "execution_count": null,
      "outputs": []
    },
    {
      "cell_type": "code",
      "source": [
        "while 1:\n",
        "    meanT=meanI+(missingValue*nMissing) /(n+nMissing)\n",
        "    missingValue=meanT\n",
        "    meanDifference=meanT-meanPrevious\n",
        "    meanPrevious=meanT\n",
        "    print(\"The present mean is:\",np.round(meanT, 3))\n",
        "    print(\"The mean difference:\",np.round(meanDifference, 3))\n",
        "    if meanDifference<0.05:\n",
        "        break\n",
        "\n",
        "for i in range(nMissing):\n",
        "    x = np.append(x,np.array([[meanT]]),axis=1)\n",
        "print(\"The data with estimated outliers: \\n\", x)"
      ],
      "metadata": {
        "colab": {
          "base_uri": "https://localhost:8080/"
        },
        "id": "IQ-JvcNC3EkH",
        "outputId": "4d7f991c-6c01-493b-cb0f-edbfc8512005"
      },
      "execution_count": null,
      "outputs": [
        {
          "output_type": "stream",
          "name": "stdout",
          "text": [
            "The present mean is: 6.333\n",
            "The mean difference: 6.333\n",
            "The present mean is: 6.778\n",
            "The mean difference: 0.444\n",
            "The present mean is: 6.926\n",
            "The mean difference: 0.148\n",
            "The present mean is: 6.975\n",
            "The mean difference: 0.049\n",
            "The data with estimated outliers: \n",
            " [[ 1.          8.         12.          7.          6.97530864  6.97530864]]\n"
          ]
        }
      ]
    },
    {
      "cell_type": "code",
      "source": [
        "#the M step\n",
        "n=n+nMissing\n",
        "mu=np.array([[3,2,3,5,5,5,6]])\n",
        "sigma=np.array([[2,3,3,5,4,3,6]])\n",
        "print(\"The mean is\",mu)\n",
        "print(\"The std is\",sigma)\n",
        "for i in range(np.shape(mu)[1]):\n",
        "    logL=-np.sum(np.square(x-mu[0,i])/(2*np.square(sigma[0,i])))-(0.5*n*np.log10(2*math.pi))-n*np.log10(sigma[0,i])\n",
        "    print(mu[0,i],sigma[0,i],np.round(logL,3))"
      ],
      "metadata": {
        "colab": {
          "base_uri": "https://localhost:8080/"
        },
        "id": "4f7Mo3Gp59JU",
        "outputId": "dd431a0f-b273-4b3b-9aaa-dd2d77d51aec"
      },
      "execution_count": null,
      "outputs": [
        {
          "output_type": "stream",
          "name": "stdout",
          "text": [
            "The mean is [[3 2 3 5 5 5 6]]\n",
            "The std is [[2 3 3 5 4 3 6]]\n",
            "3 2 -23.901\n",
            "2 3 -17.008\n",
            "3 3 -14.013\n",
            "5 5 -8.304\n",
            "5 4 -8.688\n",
            "5 3 -10.024\n",
            "6 6 -8.007\n"
          ]
        }
      ]
    },
    {
      "cell_type": "code",
      "source": [
        "#Conclusion: We have successfully implemented Expectation-Maximization algorithm for finding missing variables."
      ],
      "metadata": {
        "id": "GQf7-7Eo_WPr"
      },
      "execution_count": null,
      "outputs": []
    }
  ]
}