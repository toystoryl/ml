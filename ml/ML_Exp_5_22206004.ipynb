{
  "nbformat": 4,
  "nbformat_minor": 0,
  "metadata": {
    "colab": {
      "provenance": []
    },
    "kernelspec": {
      "name": "python3",
      "display_name": "Python 3"
    },
    "language_info": {
      "name": "python"
    }
  },
  "cells": [
    {
      "cell_type": "code",
      "source": [
        "#Name: Sahil Shaikh\n",
        "#Roll No: 54\n",
        "#Practical: Machine Learning Lab\n",
        "#Experiment No 5"
      ],
      "metadata": {
        "id": "uRcuCS4x1Dog"
      },
      "execution_count": null,
      "outputs": []
    },
    {
      "cell_type": "code",
      "execution_count": null,
      "metadata": {
        "id": "KM0X3UICyM2f"
      },
      "outputs": [],
      "source": [
        "import numpy as np"
      ]
    },
    {
      "cell_type": "code",
      "source": [
        "INPUTS = np.array([[1,1],[1,-1],[-1,1],[-1,-1]])\n",
        "outputs = np.array([1,-1,-1,-1])"
      ],
      "metadata": {
        "id": "5I-8HYXszJHe"
      },
      "execution_count": null,
      "outputs": []
    },
    {
      "cell_type": "code",
      "source": [
        "def hebb(outputs, weights, bias): # Hebb Algorithm\n",
        " for i in range(4):\n",
        "  weights[0] = weights[0] + (INPUTS[i][0] * outputs[i])\n",
        "  weights[1] = weights [1] + (INPUTS[i][1] * outputs[i])\n",
        "  bias = bias + (1 * outputs[i])\n",
        "  print(\"Weight updated: \"+ str(weights[0]))\n",
        "  print(\"Weight updated: \" + str(weights[1]))\n",
        "  print(\"Bias updated:\" + str(bias))\n",
        "  print(\"-----------------------------------------\")\n",
        " return weights, bias"
      ],
      "metadata": {
        "id": "GuP-ordnzLXY"
      },
      "execution_count": null,
      "outputs": []
    },
    {
      "cell_type": "code",
      "source": [
        "and_outputs = np.array([1,-1,-1,-1])\n",
        "weights = np.array([0.0,0.0])\n",
        "bias=0"
      ],
      "metadata": {
        "id": "uOG3lhqz0nhP"
      },
      "execution_count": null,
      "outputs": []
    },
    {
      "cell_type": "code",
      "source": [
        "returned_weights, returned_bias= hebb(and_outputs, weights, bias)"
      ],
      "metadata": {
        "colab": {
          "base_uri": "https://localhost:8080/"
        },
        "id": "pSmSpG1-0rZe",
        "outputId": "9662dec1-148c-401a-c265-0fdbeb02b442"
      },
      "execution_count": null,
      "outputs": [
        {
          "output_type": "stream",
          "name": "stdout",
          "text": [
            "Weight updated: 1.0\n",
            "Weight updated: 1.0\n",
            "Bias updated:1\n",
            "-----------------------------------------\n",
            "Weight updated: 0.0\n",
            "Weight updated: 2.0\n",
            "Bias updated:0\n",
            "-----------------------------------------\n",
            "Weight updated: 1.0\n",
            "Weight updated: 1.0\n",
            "Bias updated:-1\n",
            "-----------------------------------------\n",
            "Weight updated: 2.0\n",
            "Weight updated: 2.0\n",
            "Bias updated:-2\n",
            "-----------------------------------------\n"
          ]
        }
      ]
    },
    {
      "cell_type": "code",
      "source": [
        "#Conclusion: We have successfully implemented Hebbian learning on the AND logic using python."
      ],
      "metadata": {
        "id": "0WauGv2Y1ACP"
      },
      "execution_count": null,
      "outputs": []
    }
  ]
}