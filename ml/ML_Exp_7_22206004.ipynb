{
  "nbformat": 4,
  "nbformat_minor": 0,
  "metadata": {
    "colab": {
      "provenance": []
    },
    "kernelspec": {
      "name": "python3",
      "display_name": "Python 3"
    },
    "language_info": {
      "name": "python"
    }
  },
  "cells": [
    {
      "cell_type": "code",
      "source": [
        "#Name: Sahil Shaikh\n",
        "#Roll No: 54\n",
        "#Practical: Machine Learning Lab\n",
        "#Experiment No 7"
      ],
      "metadata": {
        "id": "_kTan-UnzrUX"
      },
      "execution_count": null,
      "outputs": []
    },
    {
      "cell_type": "code",
      "execution_count": null,
      "metadata": {
        "colab": {
          "base_uri": "https://localhost:8080/"
        },
        "id": "F7x_2BjUwl3m",
        "outputId": "b6859682-fb7e-4f36-da96-0f2a79d458fb"
      },
      "outputs": [
        {
          "output_type": "stream",
          "name": "stdout",
          "text": [
            "input tanle:\n",
            "[[0 0]\n",
            " [0 1]\n",
            " [1 0]\n",
            " [1 1]]\n"
          ]
        }
      ],
      "source": [
        "import numpy as np\n",
        "input_table = np.array([\n",
        "    [0,0],\n",
        "    [0,1],\n",
        "    [1,0],\n",
        "    [1,1]\n",
        "])\n",
        "print(f'input tanle:\\n{input_table}')"
      ]
    },
    {
      "cell_type": "code",
      "source": [
        "weights = np.array([1,1])\n",
        "print(f'weights: {weights}')"
      ],
      "metadata": {
        "colab": {
          "base_uri": "https://localhost:8080/"
        },
        "id": "pB657TJkxxVl",
        "outputId": "a27a2a41-2b86-436f-d464-6bfb58283328"
      },
      "execution_count": null,
      "outputs": [
        {
          "output_type": "stream",
          "name": "stdout",
          "text": [
            "weights: [1 1]\n"
          ]
        }
      ]
    },
    {
      "cell_type": "code",
      "source": [
        "dot_products = input_table @weights\n",
        "print(f'Dot products: {dot_products}')"
      ],
      "metadata": {
        "colab": {
          "base_uri": "https://localhost:8080/"
        },
        "id": "JNmSFsCDx_Uw",
        "outputId": "ddf6751a-50a1-483b-daa3-6f060cce9fd9"
      },
      "execution_count": null,
      "outputs": [
        {
          "output_type": "stream",
          "name": "stdout",
          "text": [
            "Dot products: [0 1 1 2]\n"
          ]
        }
      ]
    },
    {
      "cell_type": "code",
      "source": [
        "def linear_threshold_gate (dot: int, T: float) -> int:\n",
        "    if dot >= T:\n",
        "        return 1\n",
        "    else:\n",
        "        return 0"
      ],
      "metadata": {
        "id": "0O2UlmeKyYYu"
      },
      "execution_count": null,
      "outputs": []
    },
    {
      "cell_type": "code",
      "source": [
        "T = 1\n",
        "for i in range(0,4):\n",
        "    activation = linear_threshold_gate (dot_products[i], T)\n",
        "    print(f'Activation: {activation}')"
      ],
      "metadata": {
        "colab": {
          "base_uri": "https://localhost:8080/"
        },
        "id": "Vn21N1VVy9Pp",
        "outputId": "0f42dca4-ed6a-478f-ee5f-73355bcc2192"
      },
      "execution_count": null,
      "outputs": [
        {
          "output_type": "stream",
          "name": "stdout",
          "text": [
            "Activation: 0\n",
            "Activation: 1\n",
            "Activation: 1\n",
            "Activation: 1\n"
          ]
        }
      ]
    },
    {
      "cell_type": "code",
      "source": [
        "#Conclusion: We have successfully implemented McCulloch Pitts Model for deciding whether to go or to not go for a movie."
      ],
      "metadata": {
        "id": "exCKNweszz71"
      },
      "execution_count": null,
      "outputs": []
    }
  ]
}