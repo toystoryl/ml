{
  "nbformat": 4,
  "nbformat_minor": 0,
  "metadata": {
    "colab": {
      "provenance": []
    },
    "kernelspec": {
      "name": "python3",
      "display_name": "Python 3"
    },
    "language_info": {
      "name": "python"
    }
  },
  "cells": [
    {
      "cell_type": "code",
      "source": [
        "#Name: Sahil Shaikh\n",
        "#Roll No: 54\n",
        "#Practical: Machine Learning Lab\n",
        "#Experiment No 8"
      ],
      "metadata": {
        "id": "BWBOTsnDZBXL"
      },
      "execution_count": null,
      "outputs": []
    },
    {
      "cell_type": "code",
      "execution_count": null,
      "metadata": {
        "id": "OQRfN6lcTepN"
      },
      "outputs": [],
      "source": [
        "import numpy as np"
      ]
    },
    {
      "cell_type": "code",
      "source": [
        "inputs=[1.2,5.1,2.1]\n",
        "weights=[3.1,2.1,8.7]\n",
        "bias=3"
      ],
      "metadata": {
        "id": "UK5mLIc8ToVX"
      },
      "execution_count": null,
      "outputs": []
    },
    {
      "cell_type": "code",
      "source": [
        "output=np.dot(weights,inputs)+bias\n",
        "print(output)\n"
      ],
      "metadata": {
        "colab": {
          "base_uri": "https://localhost:8080/"
        },
        "id": "XkzYbxUXUBgZ",
        "outputId": "20d187dd-7b3a-413b-bbd1-9bc49aaf5c87"
      },
      "execution_count": null,
      "outputs": [
        {
          "output_type": "stream",
          "name": "stdout",
          "text": [
            "35.7\n"
          ]
        }
      ]
    },
    {
      "cell_type": "code",
      "source": [
        "inputs=[1,2,3,2.5]\n",
        "weights=[0.2,0.8,-0.5,1.0]\n",
        "bias=2"
      ],
      "metadata": {
        "id": "4FL4IuzHUcsw"
      },
      "execution_count": null,
      "outputs": []
    },
    {
      "cell_type": "code",
      "source": [
        "output=np.dot(weights,inputs)+bias\n",
        "print(output)"
      ],
      "metadata": {
        "colab": {
          "base_uri": "https://localhost:8080/"
        },
        "id": "yNkKe0A-U0dh",
        "outputId": "508746b3-8613-44dc-a909-414ddb63ce89"
      },
      "execution_count": null,
      "outputs": [
        {
          "output_type": "stream",
          "name": "stdout",
          "text": [
            "4.8\n"
          ]
        }
      ]
    },
    {
      "cell_type": "code",
      "source": [
        "inputs=[1,2,3,2.5]\n",
        "weights1=[0.2,0.8,-0.5,1.0]\n",
        "weights2=[0.5,-0.91,0.26,-0.5]\n",
        "weights3=[-0.26,-0.27,0.17,0.87]\n",
        "bias1=2\n",
        "bias2=3\n",
        "bias3=0.5"
      ],
      "metadata": {
        "id": "Tx03cipqU6yH"
      },
      "execution_count": null,
      "outputs": []
    },
    {
      "cell_type": "code",
      "source": [
        "inputs=[1,2,3,2.5]\n",
        "weights=[[0.2,0.8,-0.5,1.0],[0.5,-0.91,0.26,-0.5],[-0.26,-0.27,0.17,0.87]]\n",
        "biases=[2,3,0.5]"
      ],
      "metadata": {
        "id": "gZXwM_9HVsb0"
      },
      "execution_count": null,
      "outputs": []
    },
    {
      "cell_type": "code",
      "source": [
        "output=np.dot(weights,inputs)+biases\n",
        "print(output)"
      ],
      "metadata": {
        "colab": {
          "base_uri": "https://localhost:8080/"
        },
        "id": "a1_IQ2RiWEZ0",
        "outputId": "8044e32d-fb30-457f-dfa7-b2e60069ce00"
      },
      "execution_count": null,
      "outputs": [
        {
          "output_type": "stream",
          "name": "stdout",
          "text": [
            "[4.8   1.21  2.385]\n"
          ]
        }
      ]
    },
    {
      "cell_type": "code",
      "source": [
        "inputs=[1,2,3,2.5]\n",
        "weights=[[0.2,0.8,-0.5,1.0],[0.5,-0.91,0.26,-0.5],[-0.26,-0.27,0.17,0.87]]\n",
        "biases=[2,3,0.5]\n",
        "weights2=[[0.1,0.14,0.5],[0.5,0.12,0.33],[0.44,0.73,0.13]]\n",
        "biases2=[1,2,-0.5]"
      ],
      "metadata": {
        "id": "-wZwaaNaWVGa"
      },
      "execution_count": null,
      "outputs": []
    },
    {
      "cell_type": "code",
      "source": [
        "layer1_outputs=np.dot(weights,inputs)+biases\n",
        "layer2_outputs=np.dot(layer1_outputs,weights2)+biases2\n",
        "print(layer2_outputs)"
      ],
      "metadata": {
        "colab": {
          "base_uri": "https://localhost:8080/"
        },
        "id": "3MOIHoTUW946",
        "outputId": "be612638-6709-4f21-f200-40db10322a49"
      },
      "execution_count": null,
      "outputs": [
        {
          "output_type": "stream",
          "name": "stdout",
          "text": [
            "[3.1344  4.55825 2.60935]\n"
          ]
        }
      ]
    },
    {
      "cell_type": "code",
      "source": [
        "#activation function\n",
        "inputs=[1.2,5.1,2.1]\n",
        "weights=[3.1,2.1,8.7]\n",
        "bias=3\n",
        "output=np.dot(weights,inputs)+bias\n",
        "print(output)\n",
        "\n"
      ],
      "metadata": {
        "colab": {
          "base_uri": "https://localhost:8080/"
        },
        "id": "GJUmrIDeXYve",
        "outputId": "d0e0070e-4099-4e0a-b031-1923dda4e44a"
      },
      "execution_count": null,
      "outputs": [
        {
          "output_type": "stream",
          "name": "stdout",
          "text": [
            "35.7\n"
          ]
        }
      ]
    },
    {
      "cell_type": "code",
      "source": [
        "import math\n",
        "def sigmoid(x):\n",
        "  return 1 / (1 +math.exp(-x))\n",
        "\n",
        "result=sigmoid(output)\n",
        "print(result)"
      ],
      "metadata": {
        "colab": {
          "base_uri": "https://localhost:8080/"
        },
        "id": "hKjbLPV8Xl34",
        "outputId": "17f69a6c-bb73-4f98-9f34-e46897a83542"
      },
      "execution_count": null,
      "outputs": [
        {
          "output_type": "stream",
          "name": "stdout",
          "text": [
            "0.9999999999999998\n"
          ]
        }
      ]
    },
    {
      "cell_type": "code",
      "source": [
        "def tanh(x):\n",
        "  return (math.exp(x) - math.exp(-x)) / (math.exp(x) + math.exp(-x))\n",
        "\n",
        "result=tanh(output)\n",
        "print(result)"
      ],
      "metadata": {
        "colab": {
          "base_uri": "https://localhost:8080/"
        },
        "id": "VXF1peKIYOw6",
        "outputId": "1bac0667-54a3-4ee2-a6db-e985107bd428"
      },
      "execution_count": null,
      "outputs": [
        {
          "output_type": "stream",
          "name": "stdout",
          "text": [
            "1.0\n"
          ]
        }
      ]
    },
    {
      "cell_type": "code",
      "source": [
        "def relu(x):\n",
        "  return max(0,x)\n",
        "\n",
        "result=relu(output)\n",
        "print(result)\n"
      ],
      "metadata": {
        "colab": {
          "base_uri": "https://localhost:8080/"
        },
        "id": "X2WrJKouYwyq",
        "outputId": "15b6ec4c-9077-45af-8883-1aa78ca44ecb"
      },
      "execution_count": null,
      "outputs": [
        {
          "output_type": "stream",
          "name": "stdout",
          "text": [
            "35.7\n"
          ]
        }
      ]
    },
    {
      "cell_type": "code",
      "source": [
        "#Conclusion: We have successfully implemented simple perceptron with Relu, tanh and sigmoid activation function."
      ],
      "metadata": {
        "id": "SWAPRNBf5iOi"
      },
      "execution_count": null,
      "outputs": []
    }
  ]
}